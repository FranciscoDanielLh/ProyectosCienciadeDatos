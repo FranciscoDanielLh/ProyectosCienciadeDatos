{
 "cells": [
  {
   "cell_type": "markdown",
   "id": "4b517c4d-f8c4-40b3-a8b4-528c5d4c9f9d",
   "metadata": {},
   "source": [
    "<!DOCTYPE html>\n",
    "<html>\n",
    "<head>\n",
    "  <title>Portada del Proyecto</title>\n",
    "  <style>\n",
    "    body {\n",
    "      font-family: Arial, sans-serif;\n",
    "      margin: 0;\n",
    "      padding: 0;\n",
    "    }\n",
    "    .container {\n",
    "      text-align: center;\n",
    "      padding: 50px;\n",
    "    }\n",
    "    .logo {\n",
    "      float: left;\n",
    "    }\n",
    "    .title {\n",
    "      font-size: 24px;\n",
    "      font-weight: bold;\n",
    "      margin-bottom: 20px;\n",
    "    }\n",
    "    .subtitle {\n",
    "      font-size: 18px;\n",
    "      margin-bottom: 10px;\n",
    "    }\n",
    "  </style>\n",
    "</head>\n",
    "<body>\n",
    "  <div class=\"container\">\n",
    "    <img class=\"logo\" src=\"https://upload.wikimedia.org/wikipedia/commons/thumb/c/ca/Escudo-UNAM-escalable.svg/1024px-Escudo-UNAM-escalable.svg.png\" alt=\"Logo UNAM\" width=\"100\" height=\"100\">\n",
    "          <img class=\"logo\" src=\"https://encrypted-tbn0.gstatic.com/images?q=tbn:ANd9GcSbYMZtDu3nUCwGimNRUJ0D3cj1BCj4gMUVfDW_nus&s\" alt=\"Logo FES Acatlán\" width=\"100\" height=\"100\">\n",
    "    <div class=\"title\">Título del Proyecto</div>\n",
    "    <div class=\"subtitle\">Nombre del Alumno</div>\n",
    "    <div class=\"subtitle\">Nombre de la Materia</div>\n",
    "\n",
    "  </div>\n",
    "</body>\n",
    "</html>\n"
   ]
  },
  {
   "cell_type": "code",
   "execution_count": 14,
   "id": "51c66ba9-b2a5-47b6-94b4-0dc5c840d23c",
   "metadata": {
    "tags": []
   },
   "outputs": [
    {
     "name": "stderr",
     "output_type": "stream",
     "text": [
      "[nltk_data] Downloading package stopwords to\n",
      "[nltk_data]     C:\\Users\\franc\\AppData\\Roaming\\nltk_data...\n",
      "[nltk_data]   Package stopwords is already up-to-date!\n"
     ]
    }
   ],
   "source": [
    "import pandas as pd\n",
    "import numpy as np\n",
    "import threading\n",
    "from sklearn.feature_extraction.text import TfidfVectorizer\n",
    "from sklearn.metrics.pairwise import cosine_similarity\n",
    "from nltk.corpus import stopwords\n",
    "import nltk\n",
    "nltk.download('stopwords')\n",
    "import re"
   ]
  },
  {
   "cell_type": "markdown",
   "id": "d924855c-fd80-4d9a-9f51-191bbad70e85",
   "metadata": {},
   "source": [
    "### Procesamiento de datos"
   ]
  },
  {
   "cell_type": "code",
   "execution_count": 28,
   "id": "bcfc2b68-9cf8-44d1-a5e2-fd9ef2084c1b",
   "metadata": {
    "tags": []
   },
   "outputs": [],
   "source": [
    "df_listings = pd.read_csv(\"./listings.csv\")\n",
    "df_listings = df_listings[[\"listing_url\",'description','property_type', 'room_type',  'amenities', \n",
    "                           'neighborhood_overview','neighbourhood_cleansed']]"
   ]
  },
  {
   "cell_type": "code",
   "execution_count": 29,
   "id": "8f9f2ec4-6d37-49f3-a83c-5ae159fad5d5",
   "metadata": {
    "tags": []
   },
   "outputs": [],
   "source": [
    "df_listings[\"description\"] = df_listings[\"description\"].fillna(\"\")\n",
    "df_listings[\"neighborhood_overview\"] = df_listings[\"neighborhood_overview\"].fillna(\"\")"
   ]
  },
  {
   "cell_type": "code",
   "execution_count": 30,
   "id": "90044c0e-20dc-4e07-b6eb-75e54432fa90",
   "metadata": {
    "tags": []
   },
   "outputs": [],
   "source": [
    "df_listings[\"amenities\"] = df_listings[\"amenities\"].apply(lambda x: x.replace(\"'\", \"\").replace('\"', '').replace('[', '').replace(']', ''))\n",
    "df_listings[\"description\"] = df_listings[\"description\"].apply(lambda x: re.sub(re.compile(r\"<.*?>\"), \"\", x))"
   ]
  },
  {
   "cell_type": "code",
   "execution_count": 31,
   "id": "0641e3e1-e449-410a-9cce-c1c2e6e655ab",
   "metadata": {
    "tags": []
   },
   "outputs": [],
   "source": [
    "df_listings[\"full_description\"] = \"Descripcion: \" + df_listings[\"description\"] + \" Tipo de propiedad: \" + df_listings[\"property_type\"] +\" Tipo de habitación: \" + df_listings[\"room_type\"] +\" Amenidades: \" + df_listings[\"amenities\"] + \" Descripción vecindario: \" + df_listings[\"neighborhood_overview\"] +\" Vecindario: \" + df_listings[\"neighbourhood_cleansed\"]            "
   ]
  },
  {
   "cell_type": "code",
   "execution_count": 32,
   "id": "e78b1f1b-148d-4f6e-b1d1-d9c2bb233f08",
   "metadata": {
    "tags": []
   },
   "outputs": [],
   "source": [
    "df_listings_re = df_listings[['listing_url','full_description']]"
   ]
  },
  {
   "cell_type": "code",
   "execution_count": 33,
   "id": "f070f1c7-26a6-40f1-9eb3-63e2f9a6f121",
   "metadata": {
    "tags": []
   },
   "outputs": [
    {
     "data": {
      "text/html": [
       "<div>\n",
       "<style scoped>\n",
       "    .dataframe tbody tr th:only-of-type {\n",
       "        vertical-align: middle;\n",
       "    }\n",
       "\n",
       "    .dataframe tbody tr th {\n",
       "        vertical-align: top;\n",
       "    }\n",
       "\n",
       "    .dataframe thead th {\n",
       "        text-align: right;\n",
       "    }\n",
       "</style>\n",
       "<table border=\"1\" class=\"dataframe\">\n",
       "  <thead>\n",
       "    <tr style=\"text-align: right;\">\n",
       "      <th></th>\n",
       "      <th>listing_url</th>\n",
       "      <th>full_description</th>\n",
       "    </tr>\n",
       "  </thead>\n",
       "  <tbody>\n",
       "    <tr>\n",
       "      <th>0</th>\n",
       "      <td>https://www.airbnb.com/rooms/35797</td>\n",
       "      <td>Descripcion: Dentro de Villa un estudio de art...</td>\n",
       "    </tr>\n",
       "    <tr>\n",
       "      <th>1</th>\n",
       "      <td>https://www.airbnb.com/rooms/783080</td>\n",
       "      <td>Descripcion: The spaceLocated in a private str...</td>\n",
       "    </tr>\n",
       "    <tr>\n",
       "      <th>2</th>\n",
       "      <td>https://www.airbnb.com/rooms/44616</td>\n",
       "      <td>Descripcion: A new concept of hosting in mexic...</td>\n",
       "    </tr>\n",
       "    <tr>\n",
       "      <th>3</th>\n",
       "      <td>https://www.airbnb.com/rooms/56074</td>\n",
       "      <td>Descripcion: This great apartment is located i...</td>\n",
       "    </tr>\n",
       "    <tr>\n",
       "      <th>4</th>\n",
       "      <td>https://www.airbnb.com/rooms/783480</td>\n",
       "      <td>Descripcion: The spaceTwo beautifully furnishe...</td>\n",
       "    </tr>\n",
       "    <tr>\n",
       "      <th>...</th>\n",
       "      <td>...</td>\n",
       "      <td>...</td>\n",
       "    </tr>\n",
       "    <tr>\n",
       "      <th>23009</th>\n",
       "      <td>https://www.airbnb.com/rooms/791614634401456441</td>\n",
       "      <td>Descripcion: The 2BR apartment is located near...</td>\n",
       "    </tr>\n",
       "    <tr>\n",
       "      <th>23010</th>\n",
       "      <td>https://www.airbnb.com/rooms/791635242537214248</td>\n",
       "      <td>Descripcion: The 2BR apartment is located in t...</td>\n",
       "    </tr>\n",
       "    <tr>\n",
       "      <th>23011</th>\n",
       "      <td>https://www.airbnb.com/rooms/791890581723840464</td>\n",
       "      <td>Descripcion: The 1BR apartment is located in t...</td>\n",
       "    </tr>\n",
       "    <tr>\n",
       "      <th>23012</th>\n",
       "      <td>https://www.airbnb.com/rooms/791934034051102306</td>\n",
       "      <td>Descripcion: Capitalia - Magna ResidencialResi...</td>\n",
       "    </tr>\n",
       "    <tr>\n",
       "      <th>23013</th>\n",
       "      <td>https://www.airbnb.com/rooms/792005110133341832</td>\n",
       "      <td>Descripcion: Fully remodeled 3BR in the heart ...</td>\n",
       "    </tr>\n",
       "  </tbody>\n",
       "</table>\n",
       "<p>23014 rows × 2 columns</p>\n",
       "</div>"
      ],
      "text/plain": [
       "                                           listing_url  \\\n",
       "0                   https://www.airbnb.com/rooms/35797   \n",
       "1                  https://www.airbnb.com/rooms/783080   \n",
       "2                   https://www.airbnb.com/rooms/44616   \n",
       "3                   https://www.airbnb.com/rooms/56074   \n",
       "4                  https://www.airbnb.com/rooms/783480   \n",
       "...                                                ...   \n",
       "23009  https://www.airbnb.com/rooms/791614634401456441   \n",
       "23010  https://www.airbnb.com/rooms/791635242537214248   \n",
       "23011  https://www.airbnb.com/rooms/791890581723840464   \n",
       "23012  https://www.airbnb.com/rooms/791934034051102306   \n",
       "23013  https://www.airbnb.com/rooms/792005110133341832   \n",
       "\n",
       "                                        full_description  \n",
       "0      Descripcion: Dentro de Villa un estudio de art...  \n",
       "1      Descripcion: The spaceLocated in a private str...  \n",
       "2      Descripcion: A new concept of hosting in mexic...  \n",
       "3      Descripcion: This great apartment is located i...  \n",
       "4      Descripcion: The spaceTwo beautifully furnishe...  \n",
       "...                                                  ...  \n",
       "23009  Descripcion: The 2BR apartment is located near...  \n",
       "23010  Descripcion: The 2BR apartment is located in t...  \n",
       "23011  Descripcion: The 1BR apartment is located in t...  \n",
       "23012  Descripcion: Capitalia - Magna ResidencialResi...  \n",
       "23013  Descripcion: Fully remodeled 3BR in the heart ...  \n",
       "\n",
       "[23014 rows x 2 columns]"
      ]
     },
     "execution_count": 33,
     "metadata": {},
     "output_type": "execute_result"
    }
   ],
   "source": [
    "df_listings_re"
   ]
  },
  {
   "cell_type": "markdown",
   "id": "fba75aa9-c7a6-46b3-9548-cc38f1ebc2f6",
   "metadata": {},
   "source": [
    "### Calculo de similitud"
   ]
  },
  {
   "cell_type": "code",
   "execution_count": null,
   "id": "607f5f13-3c25-4812-b620-07403cb570a4",
   "metadata": {},
   "outputs": [],
   "source": []
  },
  {
   "cell_type": "code",
   "execution_count": null,
   "id": "3f3e3543-9c37-4704-b4d9-840fc3bec98d",
   "metadata": {},
   "outputs": [],
   "source": [
    "def split_dataframe(df, num_parts):\n",
    "    return np.array_split(df, num_parts)"
   ]
  },
  {
   "cell_type": "code",
   "execution_count": null,
   "id": "7ddcb452-9e68-487f-8447-66da8a41ebfe",
   "metadata": {},
   "outputs": [],
   "source": [
    "def compute_tfidf(sub_df, vectorizer, tfidf_mtx, start_idx):\n",
    "    sub_tfidf_mtx = vectorizer.transform(sub_df['description'])\n",
    "    with threading.Lock():\n",
    "        tfidf_mtx[start_idx:start_idx + len(sub_df)] = sub_tfidf_mtx"
   ]
  },
  {
   "cell_type": "code",
   "execution_count": 87,
   "id": "033dccb6-f07d-49bd-aa1b-204685d46b59",
   "metadata": {
    "tags": []
   },
   "outputs": [],
   "source": [
    "import pandas as pd\n",
    "from collections import defaultdict\n",
    "import threading\n",
    "\n",
    "def create_inverted_index_partial(sub_df, column, shared_inverted_index, lock):\n",
    "    for idx, row in sub_df.iterrows():\n",
    "        words = set(row[column].lower().split())\n",
    "        for word in words:\n",
    "            with lock:\n",
    "                shared_inverted_index[word].add(idx)\n",
    "\n",
    "def create_inverted_index_multithreaded(df, column, num_threads=4):\n",
    "    \n",
    "    df[column] = df[column].apply(lambda x: ' '.join([word.lower() for word in x.split() if word.lower() not in stopwords.words('spanish')]))\n",
    "    df_parts = np.array_split(df, num_threads)\n",
    "    threads = []\n",
    "    shared_inverted_index = defaultdict(set)\n",
    "    lock = threading.Lock()\n",
    "\n",
    "    for sub_df in df_parts:\n",
    "        thread = threading.Thread(target=create_inverted_index_partial, args=(sub_df, column, shared_inverted_index, lock))\n",
    "        threads.append(thread)\n",
    "\n",
    "    for thread in threads:\n",
    "        thread.start()\n",
    "    for thread in threads:\n",
    "        thread.join()\n",
    "\n",
    "    return shared_inverted_index\n",
    "\n",
    "# Ejemplo de uso\n",
    "column = 'description'\n",
    "num_threads = 4\n",
    "inverted_index = create_inverted_index_multithreaded(df_listings.sample(1000).dropna(), column, num_threads)\n"
   ]
  },
  {
   "cell_type": "code",
   "execution_count": 94,
   "id": "65e9c852-0593-4cc0-bd1f-e1209950fa5a",
   "metadata": {
    "tags": []
   },
   "outputs": [
    {
     "data": {
      "text/plain": [
       "True"
      ]
     },
     "execution_count": 94,
     "metadata": {},
     "output_type": "execute_result"
    }
   ],
   "source": [
    "'cerca' in inverted_index"
   ]
  },
  {
   "cell_type": "code",
   "execution_count": 97,
   "id": "b7734ae5-f2e7-44dc-ac66-8f1b24d676e7",
   "metadata": {
    "tags": []
   },
   "outputs": [
    {
     "name": "stdout",
     "output_type": "stream",
     "text": [
      "defaultdict(<class 'int'>, {7172: 1, 7176: 1, 16912: 2, 15889: 1, 15383: 2, 6687: 2, 8230: 3, 5158: 1, 9770: 2, 5166: 3, 563: 2, 7734: 1, 11832: 3, 570: 1, 21563: 4, 9276: 2, 6209: 1, 16453: 1, 17989: 1, 3657: 1, 3658: 1, 12875: 2, 2637: 3, 5709: 3, 11856: 2, 2642: 2, 15958: 1, 6231: 2, 3161: 2, 1630: 3, 21598: 3, 22117: 1, 8816: 1, 17524: 2, 629: 1, 13945: 2, 4220: 2, 19581: 2, 11904: 1, 22661: 3, 14478: 1, 6802: 2, 11925: 2, 15512: 2, 18079: 4, 2211: 4, 2723: 3, 5289: 1, 15023: 2, 10927: 2, 5811: 2, 6332: 2, 702: 1, 17093: 2, 5831: 1, 22217: 1, 18635: 2, 8399: 3, 22225: 2, 16595: 1, 7893: 2, 3286: 3, 16089: 1, 3290: 1, 17115: 3, 21730: 2, 5860: 1, 16620: 1, 8429: 2, 15608: 2, 12539: 2, 17662: 1, 1282: 2, 6918: 2, 15114: 1, 13066: 2, 20751: 1, 6417: 2, 5907: 2, 10231: 1, 22811: 1, 8993: 3, 8482: 2, 3361: 2, 16676: 1, 2346: 2, 10046: 2, 1855: 2, 20290: 3, 10564: 3, 8008: 1, 3914: 2, 16205: 2, 11087: 2, 7512: 3, 3417: 2, 7000: 2, 859: 1, 4957: 2, 22880: 3, 13667: 2, 5987: 1, 12645: 1, 12135: 3, 11626: 4, 12142: 2, 9073: 4, 5492: 1, 22901: 2, 13686: 1, 17272: 2, 1915: 1, 20350: 1, 9600: 1, 16768: 2, 13698: 3, 22919: 2, 3980: 2, 20877: 2, 11151: 2, 913: 1, 15251: 1, 403: 3, 6549: 4, 6550: 1, 11162: 2, 18331: 2, 6557: 2, 926: 2, 12191: 1, 17823: 1, 21922: 1, 18341: 2, 19372: 1, 14254: 1, 12207: 3, 2991: 2, 9137: 3, 8117: 2, 14262: 1, 12728: 1, 9145: 1, 15291: 2, 1988: 1, 19402: 1, 6090: 2, 15309: 1, 4053: 1, 14806: 2, 19929: 1, 4573: 1, 16867: 3, 19940: 1, 11243: 2, 20980: 3, 3063: 2, 9380: 4, 18736: 4, 18288: 1, 10963: 3, 981: 1, 17782: 1, 11865: 3, 4610: 1, 8709: 1, 18438: 2, 10774: 1, 5658: 1, 9246: 1, 11818: 1, 4650: 2, 16948: 1, 6207: 3, 11841: 1, 20548: 2, 15436: 1, 8787: 1, 21610: 1, 10351: 1, 11388: 2, 2176: 2, 11908: 1, 14989: 2, 11409: 2, 13458: 1, 10899: 1, 16019: 1, 17560: 1, 7838: 1, 4768: 1, 11425: 2, 14504: 1, 18098: 1, 10930: 1, 22708: 1, 6844: 1, 5825: 1, 9410: 2, 21711: 1, 9433: 1, 10467: 1, 17636: 1, 15081: 1, 19181: 1, 22256: 2, 13556: 3, 2300: 1, 6402: 1, 12548: 1, 4871: 2, 10503: 2, 19725: 1, 22299: 2, 9509: 2, 10536: 2, 4925: 1, 4939: 1, 8024: 3, 11614: 1, 5989: 2, 2417: 2, 22386: 1, 22388: 1, 9589: 1, 9591: 1, 15743: 2, 8068: 2, 16773: 1, 2442: 2, 10643: 1, 10645: 1, 12181: 1, 7062: 1, 10646: 1, 6054: 1, 14758: 1, 22443: 2, 19373: 1, 14255: 1, 18878: 2, 8638: 1, 14786: 1, 6082: 2, 18371: 1, 13772: 1, 22992: 1, 17880: 1, 5617: 1, 20470: 1, 16889: 1, 17784: 2, 4741: 2, 22279: 2, 21641: 1, 19592: 1, 18312: 3, 13325: 1, 17678: 2, 21772: 1, 1169: 2, 12321: 2, 6945: 1, 17957: 1, 17572: 2, 14372: 1, 22439: 1, 3628: 1, 6317: 1, 18102: 1, 4155: 1, 2108: 3, 9789: 2, 11326: 1, 20542: 1, 9921: 1, 5185: 1, 11973: 1, 14022: 1, 10694: 1, 10696: 1, 4045: 1, 1102: 1, 20175: 1, 6225: 1, 7507: 1, 21845: 1, 17112: 2, 12760: 1, 15841: 1, 18403: 1, 18401: 2, 15459: 2, 22886: 1, 5487: 1, 5875: 1, 13940: 1, 15732: 1, 16118: 1, 7287: 2, 120: 1, 15097: 1, 14202: 1, 637: 1, 17790: 1, 18943: 1, 20491: 1, 14370: 1, 6180: 1, 4903: 2, 17589: 1, 20798: 2, 14144: 2, 8654: 1, 726: 2, 8665: 2, 9823: 2, 12130: 2, 11761: 1, 22646: 2, 3197: 1, 20505: 1, 22554: 1, 18463: 1, 6179: 1, 12844: 1, 1585: 1, 10801: 1, 3648: 1, 9281: 1, 3651: 1, 10824: 1, 19532: 1, 4175: 1, 10843: 1, 15967: 1, 623: 1, 15984: 1, 16503: 1, 9336: 1, 7292: 1, 138: 1, 20619: 1, 2704: 1, 5787: 1, 20125: 1, 4255: 1, 20166: 1, 20686: 1, 4818: 1, 18649: 1, 11485: 1, 9441: 2, 15092: 1, 6398: 1, 7945: 1, 6922: 1, 5395: 1, 5401: 1, 11035: 1, 7451: 1, 20253: 1, 6442: 1, 10560: 1, 11587: 1, 12624: 1, 2899: 1, 8031: 1, 21863: 1, 14707: 1, 11126: 1, 11129: 1, 21375: 1, 21888: 1, 19842: 1, 19850: 2, 9106: 1, 14227: 1, 4005: 1, 15784: 1, 9129: 1, 4534: 1, 12214: 1, 20417: 1, 16329: 1, 9170: 1, 15329: 1, 2024: 1, 15344: 1, 1535: 1, 11793: 1, 19857: 1, 16685: 1, 22573: 1, 1719: 1, 3132: 1, 12349: 1, 10182: 1, 9297: 1, 9171: 1, 20710: 1, 5747: 1})\n",
      "('Apartamento situado en piso 5,  con terraza y hermosa vista hacia torre Mitikah Coyoacán. El edificio es nuevo, cuenta con ascensor, cámaras y guardia de seguridad 24 horas. Situado en una de las mejores colonias de CDMX, cerca de centros comerciales, restaurantes, supermercado y líneas de transporte público. Cuenta con amplia sala comedor, 3 habitaciones amuebladas con cama queen, escritorio, televisión, closet, habitación principal tiene baño privado,. Tiene cocina equipada y centro de lavado.<br /><br /><b>The space</b><br />Sala comedor amplio  y amueblado minimalista con ventana grande  y hermosa vista. La habitación principal cuenta con cama queen, escritorio, tv, closet amplio y baño privado completo. La habitación 2 y 3 cuentan con cama queen, escritorio, TV, closet y comparten baño completo.  En la sala hay un sofá cama individual. La cocina de 4 quemadores, refrigeradora, licuadora, micro hondas, vajilla y utensilios de cocina.<br /><br /><b>Guest access</b><br />Acceso al de', 'https://www.airbnb.com/rooms/754632783609097388')\n"
     ]
    }
   ],
   "source": [
    "def find_best_match(record, inverted_index, df, column, threshold):\n",
    "    words = set(record.lower().split())\n",
    "    matched_records = defaultdict(int)\n",
    "    \n",
    "    for word in words:\n",
    "        if word in inverted_index:\n",
    "            for idx in inverted_index[word]:\n",
    "                matched_records[idx] += 1\n",
    "    \n",
    "    if not matched_records:\n",
    "        return \"No se encontro Similar\"\n",
    "\n",
    "    best_match = max(matched_records, key=matched_records.get)\n",
    "    match_score = matched_records[best_match] / len(words)\n",
    "    \n",
    "    if match_score >= threshold:\n",
    "        return df.iloc[best_match, 1], df.iloc[best_match, 0]\n",
    "    else:\n",
    "        return \"NE\", None\n",
    "\n",
    "# Ejemplo de uso\n",
    "column = 'description'\n",
    "threshold = 0.1\n",
    "record =  \"Acogedor apartamento cerca del centro con WiFi gratuito y cocina completa.\"\n",
    "\n",
    "result = find_best_match(record, inverted_index, df_listings, column, threshold)\n",
    "print(result)\n"
   ]
  },
  {
   "cell_type": "code",
   "execution_count": 85,
   "id": "0353de93-2e0d-40c0-a762-b451184e9a28",
   "metadata": {
    "tags": []
   },
   "outputs": [],
   "source": [
    "def recomendador_lugares(df_listings, desc_client,num_threads):\n",
    "    \n",
    "    df_parts = split_dataframe(df_listings, num_threads)\n",
    "\n",
    "    # Crear vectorizador TF-IDF\n",
    "    vectorizer = TfidfVectorizer()\n",
    "    vectorizer.fit(df_listings['description'])\n",
    "\n",
    "    # Crear matriz TF-IDF para el dataframe completo\n",
    "    tfidf_mtx = np.empty((len(df_listings), vectorizer.vocabulary_.__len__()))\n",
    "\n",
    "    # Crear hilos para calcular la matriz TF-IDF\n",
    "    threads = []\n",
    "    start_idx = 0\n",
    "    for sub_df in df_parts:\n",
    "        thread = threading.Thread(target=compute_tfidf, args=(sub_df, vectorizer, tfidf_mtx, start_idx))\n",
    "        threads.append(thread)\n",
    "        start_idx += len(sub_df)\n",
    "\n",
    "    # Iniciar y unir hilos\n",
    "    for thread in threads:\n",
    "        thread.start()\n",
    "    for thread in threads:\n",
    "        thread.join()\n",
    "\n",
    "    # Calcular la similitud del coseno\n",
    "    query_tfidf = vectorizer.transform([desc_client])\n",
    "    similarities = cosine_similarity(query_tfidf, tfidf_mtx)\n",
    "\n",
    "    # Obtener los 10 lugares más similares\n",
    "    top_10_indices = np.argsort(similarities[0])[-10:][::-1]\n",
    "    top_10_listings = df_listings.iloc[top_10_indices]\n",
    "\n",
    "    return top_10_listings"
   ]
  },
  {
   "cell_type": "code",
   "execution_count": 83,
   "id": "d32ecdb0-c411-4564-bd3f-e56b7cf24cec",
   "metadata": {
    "tags": []
   },
   "outputs": [
    {
     "data": {
      "text/html": [
       "<div>\n",
       "<style scoped>\n",
       "    .dataframe tbody tr th:only-of-type {\n",
       "        vertical-align: middle;\n",
       "    }\n",
       "\n",
       "    .dataframe tbody tr th {\n",
       "        vertical-align: top;\n",
       "    }\n",
       "\n",
       "    .dataframe thead th {\n",
       "        text-align: right;\n",
       "    }\n",
       "</style>\n",
       "<table border=\"1\" class=\"dataframe\">\n",
       "  <thead>\n",
       "    <tr style=\"text-align: right;\">\n",
       "      <th></th>\n",
       "      <th>listing_url</th>\n",
       "      <th>description</th>\n",
       "    </tr>\n",
       "  </thead>\n",
       "  <tbody>\n",
       "    <tr>\n",
       "      <th>9350</th>\n",
       "      <td>https://www.airbnb.com/rooms/42177681</td>\n",
       "      <td>available for any kind of stays (short, medium...</td>\n",
       "    </tr>\n",
       "    <tr>\n",
       "      <th>5611</th>\n",
       "      <td>https://www.airbnb.com/rooms/30697115</td>\n",
       "      <td>ambiente cómodo, tranquilo chalet mejor zona m...</td>\n",
       "    </tr>\n",
       "    <tr>\n",
       "      <th>8635</th>\n",
       "      <td>https://www.airbnb.com/rooms/40267669</td>\n",
       "      <td>habitación cama queen 1 litera 2 4 personas, c...</td>\n",
       "    </tr>\n",
       "    <tr>\n",
       "      <th>3960</th>\n",
       "      <td>https://www.airbnb.com/rooms/23753503</td>\n",
       "      <td>linda recámara servicios (luz, agua, internet)...</td>\n",
       "    </tr>\n",
       "    <tr>\n",
       "      <th>22312</th>\n",
       "      <td>https://www.airbnb.com/rooms/776140661950463677</td>\n",
       "      <td>relax in this cozy space in condesa, ideal for...</td>\n",
       "    </tr>\n",
       "    <tr>\n",
       "      <th>13797</th>\n",
       "      <td>https://www.airbnb.com/rooms/51900789</td>\n",
       "      <td>disfruta pequeño, práctico totalmente equipado...</td>\n",
       "    </tr>\n",
       "    <tr>\n",
       "      <th>21264</th>\n",
       "      <td>https://www.airbnb.com/rooms/746676268708326985</td>\n",
       "      <td>quedarte departamento permitirá vivir verdader...</td>\n",
       "    </tr>\n",
       "    <tr>\n",
       "      <th>5895</th>\n",
       "      <td>https://www.airbnb.com/rooms/31786783</td>\n",
       "      <td>beautiful and comfortable apartment 2 blocks f...</td>\n",
       "    </tr>\n",
       "    <tr>\n",
       "      <th>15894</th>\n",
       "      <td>https://www.airbnb.com/rooms/552963521405241437</td>\n",
       "      <td>departamento 2 recamaras colonia roma&lt;br /&gt;ser...</td>\n",
       "    </tr>\n",
       "    <tr>\n",
       "      <th>9115</th>\n",
       "      <td>https://www.airbnb.com/rooms/41496693</td>\n",
       "      <td>beautiful spacious apartment home in gated com...</td>\n",
       "    </tr>\n",
       "  </tbody>\n",
       "</table>\n",
       "</div>"
      ],
      "text/plain": [
       "                                           listing_url  \\\n",
       "9350             https://www.airbnb.com/rooms/42177681   \n",
       "5611             https://www.airbnb.com/rooms/30697115   \n",
       "8635             https://www.airbnb.com/rooms/40267669   \n",
       "3960             https://www.airbnb.com/rooms/23753503   \n",
       "22312  https://www.airbnb.com/rooms/776140661950463677   \n",
       "13797            https://www.airbnb.com/rooms/51900789   \n",
       "21264  https://www.airbnb.com/rooms/746676268708326985   \n",
       "5895             https://www.airbnb.com/rooms/31786783   \n",
       "15894  https://www.airbnb.com/rooms/552963521405241437   \n",
       "9115             https://www.airbnb.com/rooms/41496693   \n",
       "\n",
       "                                             description  \n",
       "9350   available for any kind of stays (short, medium...  \n",
       "5611   ambiente cómodo, tranquilo chalet mejor zona m...  \n",
       "8635   habitación cama queen 1 litera 2 4 personas, c...  \n",
       "3960   linda recámara servicios (luz, agua, internet)...  \n",
       "22312  relax in this cozy space in condesa, ideal for...  \n",
       "13797  disfruta pequeño, práctico totalmente equipado...  \n",
       "21264  quedarte departamento permitirá vivir verdader...  \n",
       "5895   beautiful and comfortable apartment 2 blocks f...  \n",
       "15894  departamento 2 recamaras colonia roma<br />ser...  \n",
       "9115   beautiful spacious apartment home in gated com...  "
      ]
     },
     "execution_count": 83,
     "metadata": {},
     "output_type": "execute_result"
    }
   ],
   "source": [
    "desc_client =\n",
    "num_threads = 4\n",
    "recomendaciones = recomendador_lugares(df_listings.sample(1000).dropna(), desc_client,num_threads)\n",
    "recomendaciones"
   ]
  },
  {
   "cell_type": "code",
   "execution_count": null,
   "id": "3077a1c7-bc92-420b-9984-fa5ce01abe59",
   "metadata": {},
   "outputs": [],
   "source": []
  }
 ],
 "metadata": {
  "kernelspec": {
   "display_name": "Python 3 (ipykernel)",
   "language": "python",
   "name": "python3"
  },
  "language_info": {
   "codemirror_mode": {
    "name": "ipython",
    "version": 3
   },
   "file_extension": ".py",
   "mimetype": "text/x-python",
   "name": "python",
   "nbconvert_exporter": "python",
   "pygments_lexer": "ipython3",
   "version": "3.10.10"
  }
 },
 "nbformat": 4,
 "nbformat_minor": 5
}
