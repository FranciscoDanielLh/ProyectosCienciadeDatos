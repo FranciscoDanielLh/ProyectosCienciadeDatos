{
 "cells": [
  {
   "cell_type": "markdown",
   "id": "dd1181f9",
   "metadata": {},
   "source": [
    "<div style=\"background-color: white; color: #252127; text-align: center;\">   \n",
    "    <br>\n",
    "    <h3> UNIVERSIDAD NACIONAL AUTÓNOMA DE MÉXICO </h3>\n",
    "    <h3> FACULTAD DE ESTUDIOS SUPERIORES ACATLÁN </h3>\n",
    "    <h2 style=\"color: #2d572c!important\"> \"Comparación entre procesamiento paralelo y secuencial\" </h2>\n",
    "     <br>\n",
    " \n",
    "</div>"
   ]
  },
  {
   "cell_type": "code",
   "execution_count": 96,
   "id": "3113ec69-298c-49d3-98ba-7da78e932ec6",
   "metadata": {
    "tags": []
   },
   "outputs": [],
   "source": [
    "import numpy as np\n",
    "from sympy import Matrix, gcd\n",
    "from concurrent.futures import ThreadPoolExecutor\n",
    "import random\n",
    "from unidecode import unidecode "
   ]
  },
  {
   "cell_type": "code",
   "execution_count": 122,
   "id": "6438020a-976f-4e1e-8904-16de046ad377",
   "metadata": {
    "tags": []
   },
   "outputs": [],
   "source": [
    "# Función para multiplicación de matrices paralela\n",
    "def parallel_matrix_mult(a, b):\n",
    "    if a.shape[1] != b.shape[0]:\n",
    "        raise ValueError(\"Las matrices no pueden ser multiplicadas\")\n",
    "\n",
    "    result = np.zeros((a.shape[0], b.shape[1]))\n",
    "\n",
    "    def compute_element(x, y):\n",
    "        result[x][y] = np.dot(a[x, :], b[:, y])\n",
    "\n",
    "    with ThreadPoolExecutor(max_workers=2) as executor:\n",
    "        for i in range(a.shape[0]):\n",
    "            for j in range(b.shape[1]):\n",
    "                executor.submit(compute_element, i, j)\n",
    "\n",
    "    return result"
   ]
  },
  {
   "cell_type": "code",
   "execution_count": 123,
   "id": "ce364883-5173-4831-9bb2-2fcf3386cfa4",
   "metadata": {
    "tags": []
   },
   "outputs": [],
   "source": [
    "def multiplicar_matrices(a, b):\n",
    "    if a.shape[1] != b.shape[0]:\n",
    "        raise ValueError(\"Las matrices no pueden ser multiplicadas\")\n",
    "\n",
    "    result = np.zeros((a.shape[0], b.shape[1]))\n",
    "\n",
    "    for i in range(a.shape[0]):\n",
    "        for j in range(b.shape[1]):\n",
    "            result[i][j] = np.dot(a[i, :], b[:, j])\n",
    "\n",
    "    return result\n"
   ]
  },
  {
   "cell_type": "markdown",
   "id": "3b94d2ad-ae60-4cbd-bb4e-18e77ac1688b",
   "metadata": {},
   "source": [
    "# Funciones"
   ]
  },
  {
   "cell_type": "code",
   "execution_count": 124,
   "id": "c53bebb5-eab0-46cb-a89a-2792e1fc0d14",
   "metadata": {
    "tags": []
   },
   "outputs": [],
   "source": [
    "# Función para convertir el texto en una matriz numérica\n",
    "def text_to_matrix(text,alphabet):\n",
    "    text = text.lower()\n",
    "    matrix = []\n",
    "    for char in text:\n",
    "        if char in alphabet:\n",
    "            matrix.append(alphabet.index(char))\n",
    "    return np.array(matrix)"
   ]
  },
  {
   "cell_type": "code",
   "execution_count": 125,
   "id": "5da320e1-f6a2-4dd3-8f45-8c44f4f0ff46",
   "metadata": {
    "tags": []
   },
   "outputs": [],
   "source": [
    "# Función para convertir la matriz numérica de vuelta a texto\n",
    "def matrix_to_text(matrix,alphabet):\n",
    "    text = \"\"\n",
    "    for number in matrix:\n",
    "        text += alphabet[int(number)]\n",
    "    return text"
   ]
  },
  {
   "cell_type": "code",
   "execution_count": 126,
   "id": "bfb764a3-bb88-4620-a0e9-c76c97a46c71",
   "metadata": {
    "tags": []
   },
   "outputs": [],
   "source": [
    "# Función para cifrar el texto con una matriz clave\n",
    "def hill_cipher(text, key_matrix,alphabet,metodo):\n",
    "    text_matrix = text_to_matrix(text,alphabet)\n",
    "    n = key_matrix.shape[0]\n",
    "    # Aseguramos que el tamaño del texto es divisible por el tamaño de la matriz clave\n",
    "    while len(text_matrix) % n != 0:\n",
    "        text_matrix = np.append(text_matrix, 0)\n",
    "    text_matrix = text_matrix.reshape(-1, n)\n",
    "    if(metodo == \"Paralelo\"):\n",
    "        encrypted_matrix = parallel_matrix_mult(key_matrix, text_matrix.T).T % len(alphabet)\n",
    "    else:\n",
    "        encrypted_matrix = multiplicar_matrices(key_matrix, text_matrix.T).T % len(alphabet)\n",
    "    return matrix_to_text(encrypted_matrix.flatten(),alphabet)"
   ]
  },
  {
   "cell_type": "code",
   "execution_count": 127,
   "id": "60fada2d-fe43-489d-a739-718155157be5",
   "metadata": {},
   "outputs": [],
   "source": [
    "# Función para descifrar el texto con una matriz clave\n",
    "def hill_decipher(text, key_matrix,alphabet, metodo):\n",
    "    text_matrix = text_to_matrix(text,alphabet)\n",
    "    n = key_matrix.shape[0]\n",
    "    text_matrix = text_matrix.reshape(-1, n)\n",
    "    # Calculamos la inversa de la matriz en modulo 26\n",
    "    key_matrix_inv = Matrix(key_matrix).inv_mod(len(alphabet))\n",
    "    if(metodo == \"Paralelo\"):\n",
    "  \n",
    "        decrypted_matrix = parallel_matrix_mult(key_matrix_inv, text_matrix.T).T % len(alphabet)\n",
    "    else:\n",
    "  \n",
    "        decrypted_matrix = multiplicar_matrices(key_matrix_inv, text_matrix.T).T % len(alphabet)\n",
    "    return matrix_to_text(decrypted_matrix.flatten(),alphabet)"
   ]
  },
  {
   "cell_type": "code",
   "execution_count": 128,
   "id": "fc9e9036-1dcd-4b55-a2ee-d2f48a4af3de",
   "metadata": {
    "tags": []
   },
   "outputs": [],
   "source": [
    "def generate_matrix(text):\n",
    "    n = len(text)\n",
    "    matrix = np.zeros((n, n), dtype=int)\n",
    "\n",
    "    for i in range(n):\n",
    "        matrix[i][i] = 3  \n",
    "\n",
    "    return matrix"
   ]
  },
  {
   "cell_type": "code",
   "execution_count": 129,
   "id": "09bd86d6-55a4-4b65-b077-182e91461f44",
   "metadata": {
    "tags": []
   },
   "outputs": [],
   "source": [
    "def funcion_proyecto(text, key_matrix, metodo):\n",
    "    alphabet = 'abcdefghijklmnopqrstuvwxyz'\n",
    "    encrypted_text = hill_cipher(text, key_matrix,alphabet,metodo)\n",
    "    decrypted_text = hill_decipher(encrypted_text, key_matrix,alphabet,metodo)\n",
    "    return encrypted_text,decrypted_text"
   ]
  },
  {
   "cell_type": "code",
   "execution_count": 136,
   "id": "2e2b7a13-9930-42bb-a1f7-92a1eb18e77f",
   "metadata": {
    "tags": []
   },
   "outputs": [],
   "source": [
    "import time\n",
    "\n",
    "def main():\n",
    "    frase = \"Hole hola hola hola hola hola Hola hola hola hola\"\n",
    "    frase = frase.replace(\" \", \"\")\n",
    "    key_matrix = generate_matrix(frase)\n",
    "\n",
    "    # Calcula el tiempo de la ejecución paralela\n",
    "    start_time = time.time()\n",
    "    resultado_paralelo = funcion_proyecto(frase, key_matrix, \"Paralelo\")\n",
    "    paralelo_time = time.time() - start_time\n",
    "    print(f\"El tiempo de ejecución en paralelo fue: {paralelo_time} segundos\")\n",
    "\n",
    "    # Calcula el tiempo de la ejecución secuencial\n",
    "    start_time = time.time()\n",
    "    resultado_secuencial = funcion_proyecto(frase, key_matrix, \"Secuencial\")\n",
    "    secuencial_time = time.time() - start_time\n",
    "    print(f\"El tiempo de ejecución secuencial fue: {secuencial_time} segundos\")\n"
   ]
  },
  {
   "cell_type": "code",
   "execution_count": 137,
   "id": "f3d4a727-abd4-4f06-99e7-e463fd025a4f",
   "metadata": {
    "tags": []
   },
   "outputs": [
    {
     "name": "stdout",
     "output_type": "stream",
     "text": [
      "El tiempo de ejecución en paralelo fue: 11.95670747756958 segundos\n",
      "El tiempo de ejecución secuencial fue: 12.127100944519043 segundos\n"
     ]
    }
   ],
   "source": [
    "main()"
   ]
  }
 ],
 "metadata": {
  "kernelspec": {
   "display_name": "Python 3 (ipykernel)",
   "language": "python",
   "name": "python3"
  },
  "language_info": {
   "codemirror_mode": {
    "name": "ipython",
    "version": 3
   },
   "file_extension": ".py",
   "mimetype": "text/x-python",
   "name": "python",
   "nbconvert_exporter": "python",
   "pygments_lexer": "ipython3",
   "version": "3.10.10"
  }
 },
 "nbformat": 4,
 "nbformat_minor": 5
}
